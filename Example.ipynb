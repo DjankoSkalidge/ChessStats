{
 "cells": [
  {
   "cell_type": "markdown",
   "id": "3938be89",
   "metadata": {},
   "source": [
    "# jChess\n",
    "From PGN to PNG"
   ]
  },
  {
   "cell_type": "code",
   "execution_count": 1,
   "id": "6dfb383e",
   "metadata": {},
   "outputs": [],
   "source": [
    "from src.jchess.data.loader import DataLoader\n",
    "from src.jchess.data.data import DataInstance\n",
    "from src.jchess.visualization.visualization import *\n",
    "from src.jchess.visualization.dashboard import *"
   ]
  },
  {
   "cell_type": "markdown",
   "id": "5e3988f4",
   "metadata": {},
   "source": [
    "## Load Data"
   ]
  },
  {
   "cell_type": "code",
   "execution_count": 2,
   "id": "e71005c1",
   "metadata": {},
   "outputs": [],
   "source": [
    "loader = DataLoader(\"data/example.pgn\")"
   ]
  },
  {
   "cell_type": "code",
   "execution_count": 3,
   "id": "a9db52da",
   "metadata": {},
   "outputs": [
    {
     "name": "stdout",
     "output_type": "stream",
     "text": [
      "Parsing pgn file data/example.pgn\n"
     ]
    }
   ],
   "source": [
    "data_instance = loader.load()"
   ]
  },
  {
   "cell_type": "code",
   "execution_count": null,
   "id": "06de3426",
   "metadata": {},
   "outputs": [],
   "source": [
    "data_instance.save(\"data/example_parsed.json\")"
   ]
  },
  {
   "cell_type": "code",
   "execution_count": null,
   "id": "f1a7e9be",
   "metadata": {},
   "outputs": [],
   "source": [
    "loader = DataLoader(\"data/example_parsed.json\")"
   ]
  },
  {
   "cell_type": "code",
   "execution_count": null,
   "id": "7bf80313",
   "metadata": {},
   "outputs": [],
   "source": [
    "data_instance = loader.load()"
   ]
  },
  {
   "cell_type": "markdown",
   "id": "b26bb9a1",
   "metadata": {},
   "source": [
    "## Expand data"
   ]
  },
  {
   "cell_type": "code",
   "execution_count": null,
   "id": "7a1dc925",
   "metadata": {},
   "outputs": [],
   "source": [
    "#TODO"
   ]
  },
  {
   "cell_type": "markdown",
   "id": "088d291f",
   "metadata": {},
   "source": [
    "## Insights dashboard"
   ]
  },
  {
   "cell_type": "code",
   "execution_count": 19,
   "id": "a0140231",
   "metadata": {},
   "outputs": [],
   "source": [
    "dashboard = Dashboard(2,1)"
   ]
  },
  {
   "cell_type": "markdown",
   "id": "f60fa44f",
   "metadata": {},
   "source": [
    "### Select data"
   ]
  },
  {
   "cell_type": "code",
   "execution_count": 4,
   "id": "eb9cc716",
   "metadata": {},
   "outputs": [],
   "source": [
    "my_games = data_instance.select_by_username(\"jChess\")"
   ]
  },
  {
   "cell_type": "code",
   "execution_count": 8,
   "id": "a8b4c6b4",
   "metadata": {},
   "outputs": [],
   "source": [
    "some_games = data_instance.select_by_annotations({\"Black\": \"jChess\", \"Termination\": \"Time forfeit\"})"
   ]
  },
  {
   "cell_type": "markdown",
   "id": "9c86a0a1",
   "metadata": {},
   "source": [
    "### Create visualizations"
   ]
  },
  {
   "cell_type": "code",
   "execution_count": 16,
   "id": "585b8a15",
   "metadata": {},
   "outputs": [],
   "source": [
    "bw_vis = WinsByColorPie(some_games.games)"
   ]
  },
  {
   "cell_type": "code",
   "execution_count": 17,
   "id": "b90571ef",
   "metadata": {},
   "outputs": [],
   "source": [
    "termination_vis = TerminationMethodPie(my_games.games)"
   ]
  },
  {
   "cell_type": "markdown",
   "id": "141709ee",
   "metadata": {},
   "source": [
    "### Add & Export"
   ]
  },
  {
   "cell_type": "code",
   "execution_count": 20,
   "id": "239315e2",
   "metadata": {},
   "outputs": [],
   "source": [
    "dashboard.add_visualization(bw_vis)"
   ]
  },
  {
   "cell_type": "code",
   "execution_count": 21,
   "id": "ba78fa1f",
   "metadata": {},
   "outputs": [],
   "source": [
    "dashboard.add_visualization(termination_vis)"
   ]
  },
  {
   "cell_type": "code",
   "execution_count": 22,
   "id": "320b10ae",
   "metadata": {},
   "outputs": [
    {
     "data": {
      "image/png": "[encoded data removed]",
      "text/plain": [
       "<Figure size 640x480 with 2 Axes>"
      ]
     },
     "metadata": {},
     "output_type": "display_data"
    }
   ],
   "source": [
    "dashboard.export(\"example.png\")"
   ]
  },
  {
   "cell_type": "code",
   "execution_count": null,
   "id": "632fa273",
   "metadata": {},
   "outputs": [],
   "source": []
  },
  {
   "cell_type": "code",
   "execution_count": null,
   "id": "91b2a006",
   "metadata": {},
   "outputs": [],
   "source": []
  },
  {
   "cell_type": "code",
   "execution_count": null,
   "id": "39e59eb1",
   "metadata": {},
   "outputs": [],
   "source": []
  }
 ],
 "metadata": {
  "kernelspec": {
   "display_name": "Python 3 (ipykernel)",
   "language": "python",
   "name": "python3"
  },
  "language_info": {
   "codemirror_mode": {
    "name": "ipython",
    "version": 3
   },
   "file_extension": ".py",
   "mimetype": "text/x-python",
   "name": "python",
   "nbconvert_exporter": "python",
   "pygments_lexer": "ipython3",
   "version": "3.8.10"
  }
 },
 "nbformat": 4,
 "nbformat_minor": 5
}
