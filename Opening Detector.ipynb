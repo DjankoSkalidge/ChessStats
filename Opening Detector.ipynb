{
 "cells": [
  {
   "cell_type": "markdown",
   "id": "bf31fa44",
   "metadata": {},
   "source": [
    "# Opening Detector"
   ]
  },
  {
   "cell_type": "markdown",
   "id": "138f421c",
   "metadata": {},
   "source": [
    "General Idea: Create a tree-like structure where Nodes are openings, and Edges are moves. For readability sake I use the term `continuation` instead of `edge`.\n",
    "\n",
    "Store the directed-graph-like structure in a pickle file.\n",
    "\n",
    "When detecting, load the search-tree-like structure in a class and use it to navigate through the moves to find the right opening name.\n",
    "\n",
    "Use the data here: https://github.com/lichess-org/chess-openings to create the nested-dict-like structure."
   ]
  },
  {
   "cell_type": "code",
   "execution_count": 1,
   "id": "25ae146b",
   "metadata": {},
   "outputs": [],
   "source": [
    "import pickle"
   ]
  },
  {
   "cell_type": "markdown",
   "id": "324ca455",
   "metadata": {},
   "source": [
    "Some experiments to test some hypotheses:\n",
    " - Can I add objects of the same type to a nested dict within the object?\n",
    " - Can I pickle an object, load it, and then use it again?"
   ]
  },
  {
   "cell_type": "code",
   "execution_count": 2,
   "id": "085d8ae9",
   "metadata": {},
   "outputs": [],
   "source": [
    "class Klass:\n",
    "    def __init__(self):\n",
    "        self.dikt = dict()\n",
    "        \n",
    "    def add_thing(self, thing, thang):\n",
    "        self.dikt[thing] = thang\n",
    "        \n",
    "    def add_klass(self, key):\n",
    "        self.dikt[key] = Klass()\n",
    "        \n",
    "    def __str__(self):\n",
    "        returnable = \"\"\n",
    "        for key in self.dikt.keys():\n",
    "            returnable = returnable + f\"{key}: {self.dikt[key]} \"\n",
    "        return returnable\n"
   ]
  },
  {
   "cell_type": "code",
   "execution_count": 3,
   "id": "9bf1c0a5",
   "metadata": {},
   "outputs": [],
   "source": [
    "k1 = Klass()\n",
    "k2 = Klass()\n",
    "k3 = Klass()\n",
    "k4 = Klass()\n",
    "k5 = Klass()"
   ]
  },
  {
   "cell_type": "code",
   "execution_count": 4,
   "id": "376eead7",
   "metadata": {},
   "outputs": [],
   "source": [
    "k1.add_thing(\"k2\", k2)\n",
    "k2.add_thing(\"k3\", k3)\n",
    "k2.add_thing(\"k4\", k4)\n",
    "k3.add_thing(\"k5\", k5)\n",
    "k3.add_klass(\"k6\")"
   ]
  },
  {
   "cell_type": "code",
   "execution_count": 5,
   "id": "3ef62fc9",
   "metadata": {},
   "outputs": [
    {
     "name": "stdout",
     "output_type": "stream",
     "text": [
      "k2: k3: k5:  k6:   k4:   \n"
     ]
    }
   ],
   "source": [
    "print(k1)"
   ]
  },
  {
   "cell_type": "code",
   "execution_count": null,
   "id": "a5da5877",
   "metadata": {},
   "outputs": [],
   "source": [
    "with open(\"k1.pickle\", 'wb+') as f:\n",
    "    pickle.dump(k1, f)"
   ]
  },
  {
   "cell_type": "code",
   "execution_count": null,
   "id": "3347ed72",
   "metadata": {},
   "outputs": [],
   "source": [
    "with open(\"k1.pickle\", 'rb') as f:\n",
    "    kx = pickle.load(f)"
   ]
  },
  {
   "cell_type": "code",
   "execution_count": null,
   "id": "d9091347",
   "metadata": {},
   "outputs": [],
   "source": [
    "print(kx)"
   ]
  },
  {
   "cell_type": "markdown",
   "id": "f60da386",
   "metadata": {},
   "source": [
    "## The actual attempt"
   ]
  },
  {
   "cell_type": "code",
   "execution_count": 6,
   "id": "7f22ddb1",
   "metadata": {},
   "outputs": [],
   "source": [
    "class OpeningNode:\n",
    "    def __init__(self, moveorder: list, name=None):\n",
    "        self.name = name\n",
    "        self.continuations = dict()\n",
    "        self.moveorder = moveorder\n",
    "\n",
    "    def has_continuation(self, move):\n",
    "        return move in self.continuations.keys()\n",
    "        \n",
    "    def get_or_add_continuation(self, move):\n",
    "        if move not in self.continuations.keys():\n",
    "            self.continuations[move] = OpeningNode(self.moveorder + [move])\n",
    "        return self.continuations[move]\n",
    "            \n",
    "        \n",
    "    def __str__(self):\n",
    "        string_representation = f\"{self.name}\\n\"\n",
    "        for key in self.continuations:\n",
    "            string_representation = f\"{string_representation}{key}:{self.continuations[key].__str__()}\\n\" \n",
    "        return string_representation"
   ]
  },
  {
   "cell_type": "markdown",
   "id": "6c270408",
   "metadata": {},
   "source": [
    "### Looping over files, rows, and moves"
   ]
  },
  {
   "cell_type": "code",
   "execution_count": 7,
   "id": "60c7551a",
   "metadata": {},
   "outputs": [],
   "source": [
    "import pandas as pd\n",
    "from os import listdir\n",
    "from tqdm.notebook import tqdm"
   ]
  },
  {
   "cell_type": "code",
   "execution_count": 8,
   "id": "c55ee0ed",
   "metadata": {},
   "outputs": [],
   "source": [
    "from src.jchess.pgn.parser import openingnotation"
   ]
  },
  {
   "cell_type": "code",
   "execution_count": 9,
   "id": "c279285e",
   "metadata": {},
   "outputs": [
    {
     "data": {
      "application/vnd.jupyter.widget-view+json": {
       "model_id": "1f3aaa49d0054f66bd2d7a921aef3cd7",
       "version_major": 2,
       "version_minor": 0
      },
      "text/plain": [
       "  0%|          | 0/5 [00:00<?, ?it/s]"
      ]
     },
     "metadata": {},
     "output_type": "display_data"
    },
    {
     "name": "stdout",
     "output_type": "stream",
     "text": [
      "Openings: 3373\n",
      "CPU times: user 793 ms, sys: 3.21 ms, total: 796 ms\n",
      "Wall time: 794 ms\n"
     ]
    }
   ],
   "source": [
    "%%time\n",
    "openings = 0\n",
    "directory = \"/home/jaco/Python/chess-openings/\" # Clone of https://github.com/lichess-org/chess-openings\n",
    "root = OpeningNode([], \"root\")\n",
    "for file in tqdm([x for x in listdir(directory) if x.endswith('.tsv')]):\n",
    "    df = pd.read_csv(f\"{directory}{file}\", sep='\\t')\n",
    "    for index, row in df.iterrows():\n",
    "        current_node = root\n",
    "        moves = openingnotation.parse(row['pgn']).or_die()\n",
    "        for move in moves:\n",
    "            current_node = current_node.get_or_add_continuation(move)\n",
    "        current_node.name = row['name']\n",
    "        openings += 1\n",
    "print(f\"Openings: {openings}\")\n"
   ]
  },
  {
   "cell_type": "code",
   "execution_count": 10,
   "id": "40c2eed9",
   "metadata": {},
   "outputs": [],
   "source": [
    "with open(\"opening_graph.pickle\", 'wb+') as f:\n",
    "    pickle.dump(root, f)"
   ]
  },
  {
   "cell_type": "markdown",
   "id": "642586b5",
   "metadata": {},
   "source": [
    "Let's find the opening of `1. e3 e5 2. c4 d6 3. Nc3 Nc6 4. b3 Nf6 5. a4 a6 6. b3 b7` in `root`\n",
    "\n",
    "As you can see, it's the Amsterdam Attack, but with an extra couple of moves.\n",
    "\n",
    "The idea is that we will traverse the graph-like-tree-dictionary until there's no continuation."
   ]
  },
  {
   "cell_type": "code",
   "execution_count": 11,
   "id": "5fdeb190",
   "metadata": {},
   "outputs": [],
   "source": [
    "with open(\"opening_graph.pickle\", 'rb') as f:\n",
    "    tree_like_dictionary_graph = pickle.load(f)"
   ]
  },
  {
   "cell_type": "code",
   "execution_count": 12,
   "id": "d0cec2ab",
   "metadata": {},
   "outputs": [
    {
     "name": "stdout",
     "output_type": "stream",
     "text": [
      "Amsterdam Attack\n"
     ]
    }
   ],
   "source": [
    "op = \"1. e3 e5 2. c4 d6 3. Nc3 Nc6 4. b3 Nf6 5. a4 a6 6. b3 b7\"\n",
    "moves_in_opening = openingnotation.parse(op).or_die()\n",
    "c_node = tree_like_dictionary_graph\n",
    "for move in moves_in_opening:\n",
    "    if c_node.has_continuation(move):\n",
    "        c_node = c_node.continuations[move]\n",
    "    else:\n",
    "        break\n",
    "opening = c_node.name\n",
    "print(opening)"
   ]
  },
  {
   "cell_type": "code",
   "execution_count": null,
   "id": "ebb41f40",
   "metadata": {},
   "outputs": [],
   "source": []
  },
  {
   "cell_type": "code",
   "execution_count": null,
   "id": "ade7ad00",
   "metadata": {},
   "outputs": [],
   "source": []
  },
  {
   "cell_type": "code",
   "execution_count": null,
   "id": "945fe42e",
   "metadata": {},
   "outputs": [],
   "source": []
  },
  {
   "cell_type": "code",
   "execution_count": null,
   "id": "43849d5a",
   "metadata": {},
   "outputs": [],
   "source": []
  }
 ],
 "metadata": {
  "kernelspec": {
   "display_name": "Python 3 (ipykernel)",
   "language": "python",
   "name": "python3"
  },
  "language_info": {
   "codemirror_mode": {
    "name": "ipython",
    "version": 3
   },
   "file_extension": ".py",
   "mimetype": "text/x-python",
   "name": "python",
   "nbconvert_exporter": "python",
   "pygments_lexer": "ipython3",
   "version": "3.8.10"
  }
 },
 "nbformat": 4,
 "nbformat_minor": 5
}
