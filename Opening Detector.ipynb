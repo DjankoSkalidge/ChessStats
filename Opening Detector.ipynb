{
 "cells": [
  {
   "cell_type": "markdown",
   "id": "a0a278e5",
   "metadata": {},
   "source": [
    "# Opening Detector"
   ]
  },
  {
   "cell_type": "markdown",
   "id": "957ae25e",
   "metadata": {},
   "source": [
    "General Idea: Create a tree-like structure where Nodes are openings, and Edges are moves. For readability sake I use the term `continuation` instead of `edge`.\n",
    "\n",
    "Store the directed-graph-like structure in a pickle file.\n",
    "\n",
    "When detecting, load the search-tree-like structure in a class and use it to navigate through the moves to find the right opening name.\n",
    "\n",
    "Use the data here: https://github.com/lichess-org/chess-openings to create the nested-dict-like structure."
   ]
  },
  {
   "cell_type": "code",
   "execution_count": 1,
   "id": "a8c88aca",
   "metadata": {},
   "outputs": [],
   "source": [
    "import pickle"
   ]
  },
  {
   "cell_type": "code",
   "execution_count": 6,
   "id": "023f973d",
   "metadata": {},
   "outputs": [],
   "source": [
    "class OpeningNode:\n",
    "    def __init__(self, moveorder: list, name=None):\n",
    "        self.name = name\n",
    "        self.continuations = dict()\n",
    "        self.moveorder = moveorder\n",
    "\n",
    "    def has_continuation(self, move):\n",
    "        return move in self.continuations.keys()\n",
    "        \n",
    "    def get_or_add_continuation(self, move):\n",
    "        if move not in self.continuations.keys():\n",
    "            self.continuations[move] = OpeningNode(self.moveorder + [move])\n",
    "        return self.continuations[move]\n",
    "            \n",
    "        \n",
    "    def __str__(self):\n",
    "        string_representation = f\"{self.name}\\n\"\n",
    "        for key in self.continuations:\n",
    "            string_representation = f\"{string_representation}{key}:{self.continuations[key].__str__()}\\n\" \n",
    "        return string_representation"
   ]
  },
  {
   "cell_type": "markdown",
   "id": "7221aa77",
   "metadata": {},
   "source": [
    "### Looping over files, rows, and moves"
   ]
  },
  {
   "cell_type": "code",
   "execution_count": 7,
   "id": "a29f8a94",
   "metadata": {},
   "outputs": [],
   "source": [
    "import pandas as pd\n",
    "from os import listdir\n",
    "from tqdm.notebook import tqdm"
   ]
  },
  {
   "cell_type": "code",
   "execution_count": 8,
   "id": "88a21157",
   "metadata": {},
   "outputs": [],
   "source": [
    "from src.jchess.pgn.parser import openingnotation"
   ]
  },
  {
   "cell_type": "code",
   "execution_count": 9,
   "id": "673be71b",
   "metadata": {},
   "outputs": [
    {
     "data": {
      "application/vnd.jupyter.widget-view+json": {
       "model_id": "1f3aaa49d0054f66bd2d7a921aef3cd7",
       "version_major": 2,
       "version_minor": 0
      },
      "text/plain": [
       "  0%|          | 0/5 [00:00<?, ?it/s]"
      ]
     },
     "metadata": {},
     "output_type": "display_data"
    },
    {
     "name": "stdout",
     "output_type": "stream",
     "text": [
      "Openings: 3373\n",
      "CPU times: user 793 ms, sys: 3.21 ms, total: 796 ms\n",
      "Wall time: 794 ms\n"
     ]
    }
   ],
   "source": [
    "%%time\n",
    "openings = 0\n",
    "directory = \"/home/jaco/Python/chess-openings/\" # Clone of https://github.com/lichess-org/chess-openings\n",
    "root = OpeningNode([], \"root\")\n",
    "for file in tqdm([x for x in listdir(directory) if x.endswith('.tsv')]):\n",
    "    df = pd.read_csv(f\"{directory}{file}\", sep='\\t')\n",
    "    for index, row in df.iterrows():\n",
    "        current_node = root\n",
    "        moves = openingnotation.parse(row['pgn']).or_die()\n",
    "        for move in moves:\n",
    "            current_node = current_node.get_or_add_continuation(move)\n",
    "        current_node.name = row['name']\n",
    "        openings += 1\n",
    "print(f\"Openings: {openings}\")\n"
   ]
  },
  {
   "cell_type": "code",
   "execution_count": 13,
   "id": "20aed71b",
   "metadata": {},
   "outputs": [],
   "source": [
    "with open(\"data/opening_graph.pickle\", 'wb+') as f:\n",
    "    pickle.dump(root, f)"
   ]
  },
  {
   "cell_type": "markdown",
   "id": "e0242260",
   "metadata": {},
   "source": [
    "Let's find the opening of `1. e3 e5 2. c4 d6 3. Nc3 Nc6 4. b3 Nf6 5. a4 a6 6. b3 b7` in `root`\n",
    "\n",
    "As you can see, it's the Amsterdam Attack, but with an extra couple of moves.\n",
    "\n",
    "The idea is that we will traverse the graph-like-tree-dictionary until there's no continuation."
   ]
  },
  {
   "cell_type": "code",
   "execution_count": 11,
   "id": "bd1ddb18",
   "metadata": {},
   "outputs": [],
   "source": [
    "with open(\"data/opening_graph.pickle\", 'rb') as f:\n",
    "    tree_like_dictionary_graph = pickle.load(f)"
   ]
  },
  {
   "cell_type": "code",
   "execution_count": 12,
   "id": "d1b9fbe9",
   "metadata": {},
   "outputs": [
    {
     "name": "stdout",
     "output_type": "stream",
     "text": [
      "Amsterdam Attack\n"
     ]
    }
   ],
   "source": [
    "op = \"1. e3 e5 2. c4 d6 3. Nc3 Nc6 4. b3 Nf6 5. a4 a6 6. b3 b7\"\n",
    "moves_in_opening = openingnotation.parse(op).or_die()\n",
    "c_node = tree_like_dictionary_graph\n",
    "for move in moves_in_opening:\n",
    "    if c_node.has_continuation(move):\n",
    "        c_node = c_node.continuations[move]\n",
    "    else:\n",
    "        break\n",
    "opening = c_node.name\n",
    "print(opening)"
   ]
  },
  {
   "cell_type": "code",
   "execution_count": null,
   "id": "ee992d0e",
   "metadata": {},
   "outputs": [],
   "source": []
  }
 ],
 "metadata": {
  "kernelspec": {
   "display_name": "Python 3 (ipykernel)",
   "language": "python",
   "name": "python3"
  },
  "language_info": {
   "codemirror_mode": {
    "name": "ipython",
    "version": 3
   },
   "file_extension": ".py",
   "mimetype": "text/x-python",
   "name": "python",
   "nbconvert_exporter": "python",
   "pygments_lexer": "ipython3",
   "version": "3.8.10"
  }
 },
 "nbformat": 4,
 "nbformat_minor": 5
}
